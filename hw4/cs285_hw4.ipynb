{
 "cells": [
  {
   "cell_type": "code",
   "execution_count": null,
   "metadata": {},
   "outputs": [],
   "source": [
    "import glob\n",
    "import matplotlib.pyplot as plt\n",
    "import numpy as np\n",
    "import pickle\n",
    "from typing import List, Dict, Any\n",
    "from tensorboard.backend.event_processing.event_accumulator import EventAccumulator\n"
   ]
  },
  {
   "cell_type": "markdown",
   "metadata": {},
   "source": [
    "# Q3"
   ]
  },
  {
   "cell_type": "code",
   "execution_count": null,
   "metadata": {},
   "outputs": [],
   "source": [
    "file_obstacle = \"data/obstacles-cs285-v0_obstacles_multi_l2_h250_mpcrandom_horizon10_actionseq1000_05-11-2023_21-04-28\"\n",
    "file_reacher = \"data/reacher-cs285-v0_reacher_multi_l2_h250_mpcrandom_horizon10_actionseq1000_05-11-2023_21-05-03\"\n",
    "file_cheetah = \"data/cheetah-cs285-v0_cheetah_multi_l2_h250_mpcrandom_horizon15_actionseq1000_05-11-2023_22-20-03\"\n",
    "\n",
    "obstacle_name = \"Obstacles\"\n",
    "reacher_name = \"Reacher\"\n",
    "cheetah_name = \"HalfCheetah\""
   ]
  },
  {
   "cell_type": "code",
   "execution_count": null,
   "metadata": {},
   "outputs": [],
   "source": [
    "def viz(file, debug=False):\n",
    "    event_acc = EventAccumulator(file)\n",
    "    event_acc.Reload()\n",
    "    \n",
    "    if debug:\n",
    "        print(event_acc.Tags())\n",
    "        \n",
    "    value = [scalar.value for scalar in event_acc.Scalars('eval_return')]\n",
    "    step = [scalar.step for scalar in event_acc.Scalars('eval_return')]\n",
    "    \n",
    "    return value, step "
   ]
  },
  {
   "cell_type": "code",
   "execution_count": null,
   "metadata": {},
   "outputs": [],
   "source": [
    "values, steps = viz(file_reacher, debug=True)\n",
    "plt.plot(steps, values)\n",
    "plt.xlabel(\"Environment Steps\")\n",
    "plt.ylabel(\"Eval Return\")\n",
    "plt.title(\"Eval Return of MBRL on Reacher\")"
   ]
  },
  {
   "cell_type": "code",
   "execution_count": null,
   "metadata": {},
   "outputs": [],
   "source": [
    "values, steps = viz(file_obstacle, debug=True)\n",
    "plt.plot(steps, values)\n",
    "plt.xlabel(\"Environment Steps\")\n",
    "plt.ylabel(\"Eval Return\")\n",
    "plt.title(\"Eval Return of MBRL on Obstacles\")"
   ]
  },
  {
   "cell_type": "code",
   "execution_count": null,
   "metadata": {},
   "outputs": [],
   "source": [
    "values, steps = viz(file_cheetah, debug=True)\n",
    "plt.plot(steps, values)\n",
    "plt.xlabel(\"Environment Steps\")\n",
    "plt.ylabel(\"Eval Return\")\n",
    "plt.title(\"Eval Return of MBRL on HalfCheetah\")"
   ]
  },
  {
   "cell_type": "markdown",
   "metadata": {},
   "source": [
    "# Q4"
   ]
  },
  {
   "cell_type": "code",
   "execution_count": null,
   "metadata": {},
   "outputs": [],
   "source": [
    "default = \"data/reacher-cs285-v0_reacher_ablation_l2_h250_mpcrandom_horizon10_actionseq1000_05-11-2023_22-41-57\"\n",
    "acseq500 = \"data/reacher-cs285-v0_reacher_ablation_l2_h250_mpcrandom_horizon10_actionseq500_05-11-2023_22-42-08\"\n",
    "acseq2000 = \"data/reacher-cs285-v0_reacher_ablation_l2_h250_mpcrandom_horizon10_actionseq2000_05-11-2023_22-42-40\"\n",
    "horizon5 = \"data/reacher-cs285-v0_reacher_ablation_l2_h250_mpcrandom_horizon5_actionseq1000_05-11-2023_22-43-17\"\n",
    "horizon15 = \"data/reacher-cs285-v0_reacher_ablation_l2_h250_mpcrandom_horizon15_actionseq1000_05-11-2023_22-43-40\"\n",
    "modelplus1 = \"data/reacher-cs285-v0_reacher_ablation_l2_h250_mpcrandom_horizon10_actionseq1000_05-12-2023_03-00-40\"\n",
    "modelminus1 = \"data/reacher-cs285-v0_reacher_ablation_l2_h250_mpcrandom_horizon10_actionseq1000_05-11-2023_03-00-59\"\n",
    "\n",
    "names = {}\n",
    "names[\"default\"] = \"Default\"\n",
    "names[\"acseq500\"] = \"Num of Action Seq = 500\"\n",
    "names[\"acseq2000\"] = \"Num of Action Seq = 2000\"\n",
    "names[\"horizon5\"] = \"Horizon = 5\"\n",
    "names[\"horizon15\"] = \"Horizon = 15\"\n",
    "names[\"modelplus1\"] = \"Ensemble Models = 4\"\n",
    "names[\"modelminus1\"] = \"Ensemble Models = 2\""
   ]
  },
  {
   "cell_type": "code",
   "execution_count": null,
   "metadata": {},
   "outputs": [],
   "source": [
    "values = {}\n",
    "steps = {}\n",
    "\n",
    "values[\"default\"], steps[\"default\"] = viz(default)\n",
    "values[\"acseq500\"], steps[\"acseq500\"] = viz(acseq500)\n",
    "values[\"acseq2000\"], steps[\"acseq2000\"] = viz(acseq2000)\n",
    "values[\"horizon5\"], steps[\"horizon5\"] = viz(horizon5)\n",
    "values[\"horizon15\"], steps[\"horizon15\"] = viz(horizon15)\n",
    "values[\"modelplus1\"], steps[\"modelplus1\"] = viz(modelplus1)\n",
    "values[\"modelminus1\"], steps[\"modelminus1\"] = viz(modelminus1)"
   ]
  },
  {
   "cell_type": "code",
   "execution_count": null,
   "metadata": {},
   "outputs": [],
   "source": [
    "plt.plot(steps[\"default\"], values[\"default\"], label=names[\"default\"])\n",
    "plt.plot(steps[\"modelplus1\"], values[\"modelplus1\"], label=names[\"modelplus1\"])\n",
    "plt.plot(steps[\"modelminus1\"], values[\"modelminus1\"], label=names[\"modelminus1\"])\n",
    "plt.xlabel(\"Environment Steps\")\n",
    "plt.ylabel(\"Eval Return\")\n",
    "plt.title(\"Eval Return of MBRL with Varying Ensemble Sizes\")\n",
    "plt.legend()"
   ]
  },
  {
   "cell_type": "code",
   "execution_count": null,
   "metadata": {},
   "outputs": [],
   "source": [
    "plt.plot(steps[\"default\"], values[\"default\"], label=names[\"default\"])\n",
    "plt.plot(steps[\"acseq500\"], values[\"acseq500\"], label=names[\"acseq500\"])\n",
    "plt.plot(steps[\"acseq2000\"], values[\"acseq2000\"], label=names[\"acseq2000\"])\n",
    "plt.xlabel(\"Environment Steps\")\n",
    "plt.ylabel(\"Eval Return\")\n",
    "plt.title(\"Eval Return of MBRL with Varying Number of Action Sequences\")\n",
    "plt.legend()"
   ]
  },
  {
   "cell_type": "code",
   "execution_count": null,
   "metadata": {},
   "outputs": [],
   "source": [
    "plt.plot(steps[\"default\"], values[\"default\"], label=names[\"default\"])\n",
    "plt.plot(steps[\"horizon5\"], values[\"horizon5\"], label=names[\"horizon5\"])\n",
    "plt.plot(steps[\"horizon15\"], values[\"horizon15\"], label=names[\"horizon15\"])\n",
    "plt.xlabel(\"Environment Steps\")\n",
    "plt.ylabel(\"Eval Return\")\n",
    "plt.title(\"Eval Return of MBRL with Varying Planning Horizon\")\n",
    "plt.legend()"
   ]
  },
  {
   "cell_type": "markdown",
   "metadata": {},
   "source": [
    "# Q5"
   ]
  },
  {
   "cell_type": "code",
   "execution_count": null,
   "metadata": {},
   "outputs": [],
   "source": [
    "random = \"data/cheetah-cs285-v0_cheetah_multi_l2_h250_mpcrandom_horizon15_actionseq1000_05-11-2023_22-20-03\"\n",
    "cem_iters2 = \"data/cheetah-cs285-v0_cheetah_cem_l2_h250_mpccem_horizon15_actionseq1000_cem_iters2_05-11-2023_23-13-17\"\n",
    "cem_iters4 = \"data/cheetah-cs285-v0_cheetah_cem_l2_h250_mpccem_horizon15_actionseq1000_cem_iters4_05-11-2023_23-13-42\"\n",
    "\n",
    "random_name = \"Random Shooting\"\n",
    "cem_iters2_name = \"Num CEM Iters = 2\"\n",
    "cem_iters4_name = \"Num CEM Iters = 4\""
   ]
  },
  {
   "cell_type": "code",
   "execution_count": null,
   "metadata": {},
   "outputs": [],
   "source": [
    "random_values, random_steps = viz(random)\n",
    "cem_iters2_values, cem_iters2_steps = viz(cem_iters2)\n",
    "cem_iters4_values, cem_iters4_steps = viz(cem_iters4)"
   ]
  },
  {
   "cell_type": "code",
   "execution_count": null,
   "metadata": {},
   "outputs": [],
   "source": [
    "plt.plot(random_steps, random_values, label=random_name)\n",
    "plt.plot(cem_iters2_values, cem_iters2_steps, label=cem_iters2_name)\n",
    "plt.plot(cem_iters4_values, cem_iters4_steps, label=cem_iters4_name)\n",
    "plt.xlabel(\"Environment Steps\")\n",
    "plt.ylabel(\"Eval Return\")\n",
    "plt.title(\"Eval Return of MBRL with CEM vs. Random Shooting\")\n",
    "plt.legend()"
   ]
  }
 ],
 "metadata": {
  "kernelspec": {
   "display_name": "cs285",
   "language": "python",
   "name": "python3"
  },
  "language_info": {
   "codemirror_mode": {
    "name": "ipython",
    "version": 3
   },
   "file_extension": ".py",
   "mimetype": "text/x-python",
   "name": "python",
   "nbconvert_exporter": "python",
   "pygments_lexer": "ipython3",
   "version": "3.10.13"
  }
 },
 "nbformat": 4,
 "nbformat_minor": 2
}
